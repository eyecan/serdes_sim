{
 "cells": [
  {
   "cell_type": "markdown",
   "metadata": {},
   "source": [
    "# Single Pulse Response\n",
    "\n",
    "This notebook launches a single NRZ pulse into the SerDes signal path and inspects the resulting response at the receiver.\n"
   ]
  },
  {
   "cell_type": "code",
   "execution_count": null,
   "metadata": {},
   "outputs": [],
   "source": [
    "import sys, pathlib\n",
    "\n",
    "repo_root = pathlib.Path.cwd()\n",
    "while repo_root != repo_root.parent:\n",
    "    if (repo_root / 'serdes').exists():\n",
    "        break\n",
    "    repo_root = repo_root.parent\n",
    "else:\n",
    "    raise RuntimeError(\"Could not locate repository root containing 'serdes'.\")\n",
    "\n",
    "repo_root_str = str(repo_root)\n",
    "if repo_root_str not in sys.path:\n",
    "    sys.path.insert(0, repo_root_str)\n"
   ]
  },
  {
   "cell_type": "code",
   "execution_count": null,
   "metadata": {},
   "outputs": [],
   "source": [
    "import numpy as np\n",
    "import matplotlib.pyplot as plt\n",
    "\n",
    "from serdes import ChannelConfig, RxEqualizerConfig, SignalConfig, TxEqualizerConfig\n",
    "from serdes.channel import LinearChannel\n",
    "from serdes.filters import RxContinuousTimeLinearEqualizer, TxFeedForwardEqualizer\n",
    "from serdes.jitter import JitterInjector\n",
    "from serdes.config import JitterConfig\n",
    "from serdes.signal import pulse_shaping\n"
   ]
  },
  {
   "cell_type": "code",
   "execution_count": null,
   "metadata": {},
   "outputs": [],
   "source": [
    "signal = SignalConfig(\n",
    "    modulation='nrz',\n",
    "    symbol_rate=32e9,\n",
    "    samples_per_symbol=64,\n",
    "    amplitude=1.0,\n",
    "    pattern='prbs7',  # pattern is ignored because we provide explicit symbols\n",
    ")\n",
    "tx = TxEqualizerConfig(taps=(0.0, 1.0, 0.0))\n",
    "channel = ChannelConfig(alpha=0.18, post_cursor=10)\n",
    "rx = RxEqualizerConfig(ctle_zero_hz=12e9, ctle_pole_hz=32e9, ctle_dc_gain=1.0)\n",
    "jitter = JitterInjector(JitterConfig(enable=False))\n",
    "\n",
    "num_symbols = 128\n",
    "symbols = np.zeros(num_symbols)\n",
    "pulse_index = num_symbols // 2\n",
    "symbols[pulse_index] = signal.amplitude\n",
    "\n",
    "waveform = pulse_shaping(symbols, signal)\n",
    "ffe = TxFeedForwardEqualizer(tx)\n",
    "waveform_tx = ffe.apply(waveform)\n",
    "channel_model = LinearChannel(channel, signal.samples_per_symbol)\n",
    "waveform_channel = channel_model.apply(waveform_tx)\n",
    "ctle = RxContinuousTimeLinearEqualizer(rx, signal)\n",
    "waveform_rx = ctle.apply(waveform_channel)\n",
    "waveform_rx = jitter.apply(waveform_rx)\n"
   ]
  },
  {
   "cell_type": "code",
   "execution_count": null,
   "metadata": {},
   "outputs": [],
   "source": [
    "samples_per_symbol = signal.samples_per_symbol\n",
    "center_sample = pulse_index * samples_per_symbol + samples_per_symbol // 2\n",
    "time_window = slice(max(center_sample - 4 * samples_per_symbol, 0),\n",
    "                     min(center_sample + 4 * samples_per_symbol, len(waveform_rx.samples)))\n",
    "\n",
    "fig, ax = plt.subplots(figsize=(8, 4))\n",
    "ax.plot(waveform_tx.time[time_window] * 1e9, waveform_tx.samples[time_window], label='TX pulse')\n",
    "ax.plot(waveform_rx.time[time_window] * 1e9, waveform_rx.samples[time_window], label='RX response')\n",
    "ax.axvline(waveform_rx.time[center_sample] * 1e9, color='k', linestyle='--', label='Decision point')\n",
    "ax.set_xlabel('Time (ns)')\n",
    "ax.set_ylabel('Amplitude (V)')\n",
    "ax.set_title('Single Pulse Response Through the Link')\n",
    "ax.legend()\n",
    "plt.tight_layout()\n",
    "plt.show()\n"
   ]
  },
  {
   "cell_type": "code",
   "execution_count": null,
   "metadata": {},
   "outputs": [],
   "source": [
    "rx_symbol = waveform_rx.samples[center_sample]\n",
    "print(f'Center sample amplitude: {rx_symbol:.3f} V')\n"
   ]
  }
 ],
 "metadata": {
  "kernelspec": {
   "display_name": "Python 3",
   "language": "python",
   "name": "python3"
  },
  "language_info": {
   "name": "python",
   "version": "3.11"
  }
 },
 "nbformat": 4,
 "nbformat_minor": 5
}
