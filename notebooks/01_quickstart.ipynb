{
 "cells": [
  {
   "cell_type": "markdown",
   "metadata": {},
   "source": [
    "# Quickstart: SerDes link exploration\n",
    "This notebook demonstrates the modular simulation pipeline provided by the `serdes` package.\n",
    "Adjust the configuration values below to explore jitter, ISI, and equalization behavior."
   ]
  },
  {
   "cell_type": "code",
   "metadata": {},
   "execution_count": null,
   "outputs": [],
   "source": [
    "import sys, pathlib\n",
    "\n",
    "repo_root = pathlib.Path.cwd()\n",
    "while repo_root != repo_root.parent:\n",
    "    if (repo_root / 'serdes').exists():\n",
    "        break\n",
    "    repo_root = repo_root.parent\n",
    "else:\n",
    "    raise RuntimeError(\"Could not locate repository root containing 'serdes'.\")\n",
    "\n",
    "repo_root_str = str(repo_root)\n",
    "if repo_root_str not in sys.path:\n",
    "    sys.path.insert(0, repo_root_str)\n"
   ]
  },
  {
   "cell_type": "code",
   "execution_count": null,
   "metadata": {},
   "outputs": [],
   "source": [
    "import matplotlib.pyplot as plt\n",
    "\n",
    "from serdes import (\n",
    "    CdrConfig,\n",
    "    ChannelConfig,\n",
    "    EyeConfig,\n",
    "    JitterConfig,\n",
    "    RxEqualizerConfig,\n",
    "    SerDesPipeline,\n",
    "    SignalConfig,\n",
    "    TxEqualizerConfig,\n",
    ")\n",
    "from serdes.plotting import plot_bathtub, plot_eye, plot_waveform"
   ]
  },
  {
   "cell_type": "code",
   "execution_count": null,
   "metadata": {},
   "outputs": [],
   "source": [
    "signal = SignalConfig(symbol_rate=56e9, samples_per_symbol=32, modulation='pam4')\n",
    "tx = TxEqualizerConfig(taps=(0.12, 1.0, -0.14))\n",
    "channel = ChannelConfig(alpha=0.18, post_cursor=10)\n",
    "rx = RxEqualizerConfig(ctle_zero_hz=12e9, ctle_pole_hz=38e9, dfe_taps=(0.05, -0.03, 0.01))\n",
    "jitter = JitterConfig(rj_sigma_ui=0.008, sj_amplitude_ui=0.02, sj_frequency=7e6)\n",
    "cdr = CdrConfig(loop_bandwidth_hz=18e6, damping=0.8, gain=0.05)\n",
    "eye = EyeConfig(bins=180)\n",
    "\n",
    "pipeline = SerDesPipeline(signal=signal, tx=tx, channel=channel, rx=rx, jitter=jitter, cdr=cdr, eye=eye)\n",
    "result = pipeline.run(num_symbols=2048)\n",
    "\n",
    "result.equalized_symbols[:8]"
   ]
  },
  {
   "cell_type": "code",
   "execution_count": null,
   "metadata": {},
   "outputs": [],
   "source": [
    "fig, axes = plt.subplots(1, 3, figsize=(15, 4))\n",
    "plot_waveform(result.waveform_rx.time, result.waveform_rx.samples, ax=axes[0])\n",
    "plot_eye(result.eye, ax=axes[1])\n",
    "plot_bathtub(result.bathtub, ax=axes[2])\n",
    "plt.tight_layout()\n",
    "plt.show()"
   ]
  }
 ],
 "metadata": {
  "kernelspec": {
   "display_name": "Python 3",
   "language": "python",
   "name": "python3"
  },
  "language_info": {
   "name": "python",
   "version": "3.11"
  }
 },
 "nbformat": 4,
 "nbformat_minor": 5
}